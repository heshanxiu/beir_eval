{
 "cells": [
  {
   "cell_type": "code",
   "execution_count": 1,
   "id": "5e5515cc",
   "metadata": {},
   "outputs": [],
   "source": [
    "queries = dict()\n",
    "with open(\"../msmarco/queries.dev.tsv\") as f:\n",
    "    for line in f:\n",
    "        qid, qtext = line.strip().split(\"\\t\")\n",
    "        queries[qid] = qtext\n",
    "        \n",
    "collection = dict()\n",
    "with open(\"../msmarco/collection.tsv\") as f:\n",
    "    for line in f:\n",
    "        did, dtext = line.strip().split(\"\\t\")\n",
    "        collection[did] = dtext"
   ]
  },
  {
   "cell_type": "code",
   "execution_count": 2,
   "id": "f86330f9",
   "metadata": {},
   "outputs": [],
   "source": [
    "qrels = dict()\n",
    "with open(\"../msmarco/qrels.dev.tsv\") as f:\n",
    "    for line in f:\n",
    "        qid, _, did, rel = line.strip().split(\"\\t\")\n",
    "        if qid not in qrels and int(rel) > 0:\n",
    "            qrels[qid] = [did]\n",
    "        elif int(rel) > 0:\n",
    "            qrels[qid].append(did)"
   ]
  },
  {
   "cell_type": "code",
   "execution_count": 25,
   "id": "eecc73bd",
   "metadata": {},
   "outputs": [],
   "source": [
    "\n",
    "qset = set()\n",
    "sample = dict()\n",
    "run = dict()\n",
    "with open(\"../msmarco/yifan_bm25_top1000.psg.dev.trec.trec\") as f:\n",
    "    for line in f:\n",
    "\n",
    "        qid, _, did, rank, _, _ = line.strip().split(\"\\t\")\n",
    "        if int(rank) > 100:\n",
    "            continue\n",
    "        if qid in qset:\n",
    "            if did not in qrels[qid]:\n",
    "                sample[qid]['negative'].append(collection[did])\n",
    "        elif len(qset) < 100:\n",
    "            sample[qid] = {'query': queries[qid], \"positive\": [collection[did] for did in qrels[qid]], 'negative': []}\n",
    "            qset.add(qid)\n",
    "            if did not in qrels[qid]:\n",
    "                sample[qid]['negative'].append(collection[did])\n",
    "                \n",
    "        if  qid in qset and did in qrels[qid] and qid not in run and int(rank) <= 10:\n",
    "            run[qid] = 1.0/(int(rank))"
   ]
  },
  {
   "cell_type": "code",
   "execution_count": 26,
   "id": "423520e3",
   "metadata": {},
   "outputs": [
    {
     "data": {
      "text/plain": [
       "{'query': \"what is paula deen's brother\",\n",
       " 'positive': [\"Paula Deen and her brother Earl W. Bubba Hiers are being sued by a former general manager at Uncle Bubba'sâ\\x80¦ Paula Deen and her brother Earl W. Bubba Hiers are being sued by a former general manager at Uncle Bubba'sâ\\x80¦\"],\n",
       " 'negative': [\"Racial scandals aren't always bad for business ... just ask Paula Deen's brother who says the embattled chef's restaurants have been slammed withâ\\x80¦ Racial scandals aren't always bad for business ... just ask Paula Deen's brother who says the embattled chef's restaurants have been slammed withâ\\x80¦\",\n",
       "  \"Viewing Tweets won't unblock @Paula_Deen. 1  Paula Deenâ\\x80\\x8fVerified account @Paula_Deen 8h8 hours ago. 2  Paula Deenâ\\x80\\x8fVerified account @Paula_Deen 23h23 hours ago. 3  Paula Deenâ\\x80\\x8fVerified account @Paula_Deen Apr 4  9. Paula Deenâ\\x80\\x8fVerified account @Paula_Deen Apr 5  8. Paula Deenâ\\x80\\x8fVerified account @Paula_Deen Apr  8. Paula Deenâ\\x80\\x8fVerified account @Paula_Deen Apr 8.\",\n",
       "  \"What happened to Paula Deen's first husband? kgb answers Â» Arts & Entertainment Â» Actors and Actresses Â» What happened to Paula Deen's first husband? Paula Deen divorced her first husband Jimmy Deen (described as her hard-drinking high school sweetheart) in 1989 after 27 years of marriage; they had two sons together. In 2004 she married Michael Grover. Soon after her divorce, Deen started her own catering company, The Bag Lady.\",\n",
       "  \"Viewing Tweets won't unblock @Paula_Deen. 1  Paula Deenâ\\x80\\x8fVerified account @Paula_Deen 8h8 hours ago. Get ready for a fun night of fashion on Sweet Home Savannah. 2  Paula Deenâ\\x80\\x8fVerified account @Paula_Deen 23h23 hours ago. Easter Sunday has nearly arrived! 3  Paula Deenâ\\x80\\x8fVerified account @Paula_Deen Apr  9.\",\n",
       "  'The New York Times. U.S. | National Briefing | South. Georgia: Paula Deen and Brother Shut a Restaurant. The celebrity chef Paula Deen and her younger brother, Bubba Hiers, have closed a Savannah seafood restaurant that served as the backdrop to a workplace discrimination lawsuit that stained her reputation.',\n",
       "  \"Paula Deen's Wilmington Island home. Paula Deen has listed her Wilmington Island home on the market. Take a peek inside the luxurious waterfront home. Paula Deen has listed her Wilmington Island home on the market. Take a peek inside the luxurious waterfront home. Paula Deen has listed her Wilmington Island home on the market. Take a peek inside the luxurious waterfront home.\",\n",
       "  \"Celebrity chef Paula Deen denies she's ever told racial jokes, but she did acknowledge using the N word, according to her deposition in a lawsuit. A former manager at Deen's restaurants in Savannah, Georgia, is suing her and her brother for sexual and racial harassment.\",\n",
       "  \"The Fallout Continues... 1  1. Paula Deen. Restaurant at Center of Racism Scandal Shuts Down 4/3/14. 2  2. Paula Deen. Wins Racial Lawsuit That Destroyed Her 8/12/13. 3  3. Laila Ali. I'm Still In Paula Deen's Corner 7/30/13. 4  4. Black 'Next Food Network Star'. Give Paula a Break 'We Are All Human' 6/24/13. 5  5. Rev. Al Sharpton.\",\n",
       "  \"Paula Deen's Wilmington Island home hits the market for $12.5 million. Paula Deen recently listed her 14,500 square-foot Wilmington Island home on the market for $12.5 million. The property also includes a barn, dock house and two guest cottages. FILE - Celebrity chef Paula Deen poses for a portrait in New York.\",\n",
       "  'Paula Deen Home Collections If you are not familiar with the Paula Deen line of home furnishings, you should stop in and get yourself acquainted. Pauls Deenâ\\x80\\x99s furniture line is just like the woman herself: what you see is what you get.',\n",
       "  \"Paula Deen's Sprawling Savannah Mansion Is for Sale (PHOTOS) Celebrity chef Paula Deen's estate on Georgia's Wilmington Island is for sale. Located about 10 miles outside downtown Savannah, this home is the ultimate Southern retreat.\",\n",
       "  \"Trusted Results with How long can you freeze pork ribs. Mom's 'Sweet 'n' Sours' Pork Ribs-All Recipes. My Mom's longtime recipe that she learned from my grandmother who has long passed on.Combines soy sauce, sugar, vinegar, dry mustard, garlic, as well as a few other ... Smoked Pork Ribs Recipe: Paula Deen: Food Network. Food Network invites you to try this Smoked Pork Ribs recipe from Paula Deen.y Mom's longtime recipe that she learned from my grandmother who has long passed on. Combines soy sauce, sugar, vinegar, dry mustard, garlic, as well as a few other ... Smoked Pork Ribs Recipe: Paula Deen: Food Network. Food Network invites you to try this Smoked Pork Ribs recipe from Paula Deen.\",\n",
       "  'Paula Deen & Brother Bubba Sued for Harassment. Paula Deen and her brother Earl W. â\\x80\\x9cBubbaâ\\x80\\x9d Hiers are being sued by a former general manager at Uncle Bubbaâ\\x80\\x99s Seafood and Oyster House, a restaurant they co-own. Lisa Jackson â\\x80\\x93 who worked as general manager at the Savannah, Ga., eatery for five years â\\x80\\x93 alleges in court documents filed Monday in the Superior Court of Chatham County, that she was subjected to sexual harassment and violent behavior by Hiers.',\n",
       "  \"Viewing Tweets won't unblock @Paula_Deen. Paula Deenâ\\x80\\x8fVerified account @Paula_Deen 8h8 hours ago. Get ready for a fun night of fashion on Sweet Home Savannah. Tune in tonight from 6-8PM EST only on @Evine! http://bit.ly/2flIeD8 pic.twitter.com/2boARXxjyB.\",\n",
       "  \"Join the queen of Southern cuisine for great food and outrageous fun with Paula's Best Dishes and Paula's Home Cooking. 1  Paula's Website. 2  Cooking with Paula Deen Magazine.\",\n",
       "  'Paula Deen and her Celeb Diets In Hollywood, a lot of the celebrity weight loss secrets have health reasons as a motivating factor. Six months after revealing her Type 2 diabetes diagnosis, Paula Deen has joined the bandwagon of celebrities who lose weight. Specifically Paula Deen has lost 30 pounds.',\n",
       "  \"Paula Deen Restaurant Closes -- Eatery At Center Of Racism Scandal Shuts Down. Uncle Bubba's Seafood & Oyster House -- the place where Paula Deen's empire crumbled -- just closed for good, and the way employees found out is just shocking. The company did NOT tell its employees in an open meeting or face-to-face.\",\n",
       "  'Paula Deen Furniture *Add items to the shopping cart to see the best prices on the internet* Bring home joy and comfort with Paula Deen Furniture collection by Universal Furniture from Knight Furniture Showrooms. Features that set Paula Deen Furniture collections apart from other collections are the delicate, weathered detailing and warm silhouettes.',\n",
       "  \"Uncle Bubba's Seafood & Oyster House -- the place where Paula Deen's empire crumbled -- just closed for good, and the way employees found out is justâ\\x80¦ Uncle Bubba's Seafood & Oyster House -- the place where Paula Deen's empire crumbled -- just closed for good, and the way employees found out is justâ\\x80¦ Got A Tip? Email Or Call (888) 847-9869\",\n",
       "  \"Take pork chops and season both sides generously with Lawry's Seasoning Salt and Paula Deen's House Seasoning. If you do not have Paula Deen's Seasoning you can make your own by mixing 1 cup of salt with 1/4 cup of pepper and 1/4 cup of garlic powder. You can put it in a shaker bottle and use for up to 6 months.\",\n",
       "  \"Baking, roasting, cooking in her country chic style lends itself to her casual, eclectic furniture, inspired by Paula Deen, manufacturer by Universal Furniture. Shop the entire collection of Paula Deen Home to find the perfect bedroom furniture, dining room furniture, desks and occasional tables to bring a touch of Savannah, GA, Paula's own home, to your own.\",\n",
       "  \"Directions See How It's Made. Take pork chops and season both sides generously with Lawry's Seasoning Salt and Paula Deen's House Seasoning. If you do not have Paula Deen's Seasoning you can make your own by mixing 1 cup of salt with 1/4 cup of pepper and 1/4 cup of garlic powder. You can put it in a shaker bottle and use for up to 6 months.\",\n",
       "  \"Trusted Results with How long does pork ribs keep in the refrigerator. Rockin' Roast Pork Shoulder with Spanish Rice Recipe: Paula ... Food Network invites you to try this Rockin' Roast Pork Shoulder with Spanish Rice recipe from Paula Deen.... Cook's Note: Can keep in the refrigerator for up to 10 days.rusted Results with How long does pork ribs keep in the refrigerator. Rockin' Roast Pork Shoulder with Spanish Rice Recipe: Paula ... Food Network invites you to try this Rockin' Roast Pork Shoulder with Spanish Rice recipe from Paula Deen.\",\n",
       "  \"After trying this delicacy, I decided that I should find a recipe for it. After all, I couldn't keep spending $3.00 for a little slice of cake. The package said that it was Paula Deen's Ooey Gooey Lemon Butter Cake. Surely I could find a Paula Deen recipe online. And I did! I really love Google. With the click of my mouse, I was able to find a ton of sites with this recipe. And what's even better........The recipe comes with many variations.\",\n",
       "  'The suit was settled last August, but not before Ms. Deen lost her Food Network show and some lucrative endorsement deals. A version of this brief appears in print on April 5, 2014, on Page A15 of the New York edition with the headline: Georgia: Paula Deen and Brother Shut a Restaurant.',\n",
       "  \"The publisher released a statement on Friday, saying it would not release Deen's forthcoming cookbook, Paula Deen's New Testament: 250 Recipes: All Lightened Up as well as four other cookbooks the chef had been contracted to write.\",\n",
       "  'Brian Killian/WireImage. Paula Deen and her brother Earl W. â\\x80\\x9cBubbaâ\\x80\\x9d Hiers are being sued by a former general manager at Uncle Bubbaâ\\x80\\x99s Seafood and Oyster House, a restaurant they co-own.',\n",
       "  'deen may have been known to most laypeople as a television chef and cookbook author. Racism Is a Tough Sell: The Real Reason Everyone Dumped Paula Deen Daniel Gross June 27, 2013. Both reek of false modesty, but deen does appear jumpy and genuinely anxious at times. My Bizarre Night With James Deen, Libertarian Porn Star Emily Shire November 11, 2014. Born in the small town of Albany, Georgia, deen married at 18, got pregnant at 19, and lost both of her parents by age 23. Paula Deen, Teflon Chef Winston Ross June 20, 2013. But that article described deen as calm and reliable, especially compared to LiLo.',\n",
       "  'Photo courtesy of Paula Deen Ventures. Paula Deen recently listed her 14,500 square-foot Wilmington Island home on the market for $12.5 million. The property also includes a barn, dock house and two guest cottages.',\n",
       "  \"Remove roast from bag, place in a roasting pan, and discard marinade. Roast pork loin at 325Â° for 2 to 2 1/2 hours, or to an internal temperature of 160 to 170Â°. Serve with Paula Deen's Original BBQ sauce.emove roast from bag, place in a roasting pan, and discard marinade. Roast pork loin at 325Â° for 2 to 2 1/2 hours, or to an internal temperature of 160 to 170Â°. Serve with Paula Deen's Original BBQ sauce.\",\n",
       "  \"Chef Daniel Green served as one of four judges on the series Kitchen Inferno for Food Network in 2015 that is currently airing in Australia and the Middle East. Daniel Green on Food Fortunes. Chef Daniel Green participated on a panel of powerful investors on Food Network's highly-rated Food Fortunes. Daniel Green and Paula Deen on Food Network. Chef Daniel Green shows his passion for healthy eating with the charming Paula Deen.\",\n",
       "  'Paula Deen and her Celeb Diets In Hollywood, a lot of the celebrity weight loss secrets have health reasons as a motivating factor. Six months after revealing her Type 2 diabetes diagnosis, Paula Deen has joined the bandwagon of celebrities who lose weight.',\n",
       "  'Choosing the Right Cooking School Deciding on a culinary career might not take much thought, but how do you choose the right school... 8 Reasons to Love Paula Deen Even Though Sheâ\\x80\\x99s a Racist Celebrity chef and cooking show television host Paula Deen is a polarizing figure.',\n",
       "  'Recent Posts Paula Deen Book Signing Dates! Paula Deen will be here for a book signing yâ\\x80\\x99all! Join us from 10am till 12pm on the following datesâ\\x80¦. (Read More) SUNDAY-THURSDAY: 11AM TO 9PM. FRIDAY & SATURDAY: 11 AM TO 10 PM.',\n",
       "  \"Trusted Results with How long does pork ribs keep in the refrigerator. Rockin' Roast Pork Shoulder with Spanish Rice Recipe: Paula ... Food Network invites you to try this Rockin' Roast Pork Shoulder with Spanish Rice recipe from Paula Deen.... Cook's Note: Can keep in the refrigerator for up to 10 days....Cooks.com-Recipes-How To Make Playdoh. ... This is the cookbook for anyone who enjoys the simple, fresh and beautifully ...ood Network invites you to try this Rockin' Roast Pork Shoulder with Spanish Rice recipe from Paula Deen. ... Cook's Note: Can keep in the refrigerator for up to 10 days. ... Cooks.com-Recipes-How To Make Playdoh. ... This is the cookbook for anyone who enjoys the simple, fresh and beautifully ...\",\n",
       "  'Paula Deen Home Custom Order Upholstery Collection. P9 Series. To order a fully customized Paula Deen piece, try the custom order upholstery program! The P9 collection offers traditional and casual options for sectionals, sofas, sleepers, and more, all featuring Down Blend seating and toss pillows.',\n",
       "  'Related Articles: 1  Choosing the Right Cooking School Deciding on a culinary career might not take much thought, but how do you choose the right school... 2  8 Reasons to Love Paula Deen Even Though Sheâ\\x80\\x99s a Racist Celebrity chef and cooking show television host Paula Deen is a polarizing figure.',\n",
       "  'The casino and pavilion at Horseshoe Southern Indiana reopened at 10 a.m. Wednesday, along with the Paula Deen Buffet, Jack Binions Steakhouse, JBs Ca ... The casino and pavilion at Horseshoe Southern Indiana reopened at 10 a.m. Wednesday, along with the Paula Deen Buffet, Jack Binions Steakhouse, JBs Ca ...',\n",
       "  'If youâ\\x80\\x99re looking for something more whimsical, try the Paula Deen Home Dogwood Collection. Inspired by Paulaâ\\x80\\x99s beloved Savannah, youâ\\x80\\x99ll feel as if youâ\\x80\\x99ve stepped into a rustic Southern home. If you truly want to treat guests like family, outfitting your spare bedroom in lovely pieces from Paula Deenâ\\x80\\x99s Dogwood Collection is a great way to start.',\n",
       "  \"Trusted Results with How long does pork ribs keep in the refrigerator. Rockin' Roast Pork Shoulder with Spanish Rice Recipe : Paula ... Food Network invites you to try this Rockin' Roast Pork Shoulder with Spanish Rice recipe from Paula Deen. ... Cook's Note: Can keep in the refrigerator for up to 10 days.\",\n",
       "  \"Her first business, The Bag Lady, lasted for five years out of the kitchen in the Best Western in Savannah. Owns the Lady and Sons restaurant in downtown Savannah with her two sons, Bobby Deen and Jamie Deen. Films her cooking show, Paula's Home Cooking (2002), out of her kitchen in Georgia.\",\n",
       "  'Paula Deen admits to using racial slur 02:14. 1  Deen used the N word in quite different time in American history, company says. 2  Food Network says it will continue to monitor the situation.  Ms. Deen does not condone or find the use of racial epithets acceptable, her lawyer says.',\n",
       "  'Paula Deen admits to using racial slur 02:14. 1  Deen used the N word in quite different time in American history, company says.  Food Network says it will continue to monitor the situation.',\n",
       "  'PAULA DEEN NIGHTMARE MARRIAGE! Paula Deenâ\\x80\\x99s first marriage disintegrated into a living hell â\\x80\\x93 and The National ENQUIRER has exclusively obtained the bombshell divorce papers that prove it! The 17-year marriage was â\\x80\\x9cirretrievably broken,â\\x80\\x9d the papers said, and the star chef revealed there was one big reason the union was doomed to fail.',\n",
       "  'Preheat oven to 375 degrees F. Mix all meatloaf ingredients well and place in a baking dish. Shape into a loaf.Topping: Mix ingredients for topping and spread on loaf. Bake for 1 hour.Recipe courtesy of Paula Deen.ix all meatloaf ingredients well and place in a baking dish. Shape into a loaf. Topping: Mix ingredients for topping and spread on loaf. Bake for 1 hour. Recipe courtesy of Paula Deen.',\n",
       "  'This is the latest accepted revision, reviewed on 30 March 2017. Paula Ann Hiers Deen (born January 19, 1947) is an American celebrity chef and cooking show television host. Deen resides in Savannah, Georgia, where she owns and operates The Lady & Sons restaurant with her sons, Jamie and Bobby Deen. She has published fifteen cookbooks.',\n",
       "  'Directions. Preheat oven to 375 degrees F. Mix all meatloaf ingredients well and place in a baking dish. Shape into a loaf. Topping: Mix ingredients for topping and spread on loaf.Bake for 1 hour. Recipe courtesy of Paula Deen.ix all meatloaf ingredients well and place in a baking dish. Shape into a loaf. Topping: Mix ingredients for topping and spread on loaf. Bake for 1 hour. Recipe courtesy of Paula Deen.',\n",
       "  \"By Leslie Anne Wiggins for Architectural Digest. Photos by Seabolt Brokers. Celebrity chef Paula Deen's estate on Georgia's Wilmington Island is for sale. Located about 10 miles outside downtown Savannah, this home is the ultimate Southern retreat.\",\n",
       "  'Directions. Preheat oven to 375 degrees F. Mix all meatloaf ingredients well and place in a baking dish. Shape into a loaf. Topping: Mix ingredients for topping and spread on loaf. Bake for 1 hour. Recipe courtesy of Paula Deen.ix all meatloaf ingredients well and place in a baking dish. Shape into a loaf. Topping: Mix ingredients for topping and spread on loaf. Bake for 1 hour. Recipe courtesy of Paula Deen.',\n",
       "  \"Uncle Bubba's Seafood & Oyster House-- the place where Paula Deen's empire crumbled -- just closed for good, and the way employees found out is just shocking. The company did NOT tell its employees in an open meeting or face-to-face.\",\n",
       "  \"June 29, 2013. It appears that there is little that remains of Paula Deen's crumbling empire in wake of criticism surrounding the controversy in which the celebrity chef admitted to using racial slurs.\",\n",
       "  'Barrow Fine Furniture offers a wide variety of brand name furniture. Here we put the spotlight on one of our favorite brands. Paula Deen....cooking DIVA and now home furnishing DIVA as well. See the entire collection of Paula Deen home furnishings at Barrows. Quality furniture, affordable prices and superior customer service are the foundations of our outstanding reputation at Barrow Fine Furniture, and weâ\\x80\\x99ve successfully served Alabama homeowners throughout the Mobile and Dothan areas for more than 60 years.',\n",
       "  'Copyright Paula Deen Ventures 2018. Terms of Service ; Privacy Policy ; Site Map',\n",
       "  \"1 'Dancing with the Stars': Paula Deen Gets the Boot, Bindi Irwin Does 'Dirty Dancing'. ' 2 Star Wars: The Force Awakens' Final Trailer Released. 3  Zooey Deschanel Reveals Daughter's Name. 4  Drake Shows Off Dance Moves in 'Hotline Bling' Music Video.\",\n",
       "  'Paula Deen: Earning about $4.5 million per year, Deenâ\\x80\\x99s net worth is estimated at $15 million. She began her cooking career at home, since she suffered from panic attacks and agoraphobia and couldnâ\\x80\\x99t leave the house.',\n",
       "  \"Introduced by Death as The Book Thief, Liesel is nine at the beginning of the novel, when her younger brother dies and she is given up by her mother to live with Hans and Rosa Hubermann in the small town of Molching.iesel's mother, who gives her up for adoption by the Hubermann's at the beginning of the novel. Liesel's father was taken away by the Nazis for being a Communist, and Paula meets the same fate. As Liesel comes to realize, by giving her daughter away, Paula saves her from persecution.\",\n",
       "  \"Trusted Results with How long does pork ribs keep in the refrigerator. Rockin' Roast Pork Shoulder with Spanish Rice Recipe: Paula ... Food Network invites you to try this Rockin' Roast Pork Shoulder with Spanish Rice recipe from Paula Deen.... Cook's Note: Can keep in the refrigerator for up to 10 days.he quarks texture is depending on how long you drain the quark. The longer you drain, ... After the quark is drained store it in the refrigerator for up to 6 ...\",\n",
       "  \"1 101 calories, 6g fat, 1g carbs, 8g protein, 0g fiber. 2  Calories In Bobby's Pimento Cheese Recipe (low fat version of Paula Deen recipe). 3  212 calories, 17g fat, 1g carbs, 12g protein, 0g fiber.\",\n",
       "  'Shop for Paula Deen by Craftmaster Furniture at CraftMaster in Hiddenite, NC. Prices subject to home office audit & correction.',\n",
       "  'Preheat oven to 325 degrees F. Remove roast from bag, place in a roasting pan, and discard marinade. Roast pork loin at 325 degrees F for 2 to 2 1/2 hours, or to an internal temperature registers 160 to 170 degrees F. on an instant-read thermometer.Serve with BBQ sauce.Recipe courtesy of Paula Deen.emove roast from bag, place in a roasting pan, and discard marinade. Roast pork loin at 325 degrees F for 2 to 2 1/2 hours, or to an internal temperature registers 160 to 170 degrees F. on an instant-read thermometer. Serve with BBQ sauce. Recipe courtesy of Paula Deen.',\n",
       "  \"Total: 2 hr 20 min. Yield: 6 servings. For a bowl of comfort, cook up Paula Deen's Old-Time Beef Stew recipe, the perfect Sunday supper from Food Network. You can also find 1000s of Food Network's best recipes from top chefs, shows and experts. And watch videos demonstrating recipe prep and cooking techniques.\",\n",
       "  \"Hitler's mother was now preoccupied with caring for her new son, Edmund. In 1896 she gave birth to a girl, Paula. The Hitler household now consisted of Adolf, little brother Edmund, little sister Paula, older half brother Alois Jr., older half sister Angela and two parents who were home all the time.\",\n",
       "  \"Case in point: Paula Deen's recipe calls for 3 to 5 gallons of peanut oil â\\x80\\x94 3 to 5 gallons! The good news is, you can recycle the oil you use to fry your turkey â\\x80\\x94 there are just a couple of simple rules of thumb to follow to keep the oil usable.\",\n",
       "  \"This porcelain enamel stick aluminum cookware, with a nonstick finish, offers excellent performance with a traditional look. The design was inspired by Paula Deen's memories of poring through antiques with her Aunt Peggy (from $14.99 for an 8-inch pan to $119.99 for a 12-piece set, available at amazon.com).\",\n",
       "  \"But just because you shouldn't eat an entire platter of Paula Deen's cheese balls doesn't mean you have to avoid cheese altogether. Cheese can be both delicious and a great source of lean protein, calcium, phosphorus, and other health benefits -- if you choose the right varieties. Here are five cheeses that belong on any shopping list.\",\n",
       "  \"The Cooking Oils You Should Be Using, And When To Use Them. As anyone who follows food news knows, butter is back (and it's not, thankfully, due to Paula Deen's reemergence on the culinary scene). Americans are eating more butter now than they have in the past 40 years. Margarine is out and butter is in. But that's not the whole story.\",\n",
       "  \"His social media status couldnâ\\x80\\x99t save Hayes Grier from being eliminated from the competition tonight on ABC's Dancing With the Stars. 'Dancing With the Stars' 2015: Paula Deen Eliminated, But She's Excited to See Her Grandbabies Grier, 15, was the latest competitor to leave the dance floor on the show's season 21. The Vine star hugged his pro partner, Emma Slater, when he learned he was going home.\",\n",
       "  \"Don't forget to take the family to the Lady and Sons Restaurant, Paula Deen's eatery on West Congress Street and Mrs Wilks Dining Room on West Jones Street. No matter what brings you to Savannah, GA, our hotel's the ideal choice with Complimentary Parking, Express Start Breakfast and Internet. We also feature a 330-sq-ft meeting room. Whether business or pleasure brings you to Savannah, GA, our hotel's free wired and wireless internet access keeps you connected. In addition, we offer an unbeatable, free Express Start breakfast bar that is the perfect start to your day.\",\n",
       "  \"8. 1  Dogwood Upholstered Metal Bed. 2  Paula Deen Home Round/Oval Pedestal Dining Table - Linen finish. 3  Steel Magnolia Bed - Linen Finish. 4  Rectangular/Square Counter Height Leg Dining Table in Linen. 5  Dogwood Low Tide Poster Bedroom Set. 6  Dogwood Blossom and Driftwood Cocktail Table Set. 7  The Bag Lady's Cabinet.\",\n",
       "  \"Liesel's six-year-old brother who dies at the beginning of the book. Liesel is haunted by the memory of Werner and consistently experiences nightmares about his death for months after arriving in Molching. At one point, Liesel thinks to herself that in her mind, Werner will be six years old forever.iesel's mother, who gives her up for adoption by the Hubermann's at the beginning of the novel. Liesel's father was taken away by the Nazis for being a Communist, and Paula meets the same fate. As Liesel comes to realize, by giving her daughter away, Paula saves her from persecution.\",\n",
       "  'Deen may have been known to most laypeople as a television chef and cookbook author. Racism Is a Tough Sell: The Real Reason Everyone Dumped Paula Deen Daniel Gross June 27, 2013. laypeople tend to regard two successive quarters of negative growth as a recession. The U.S. Economy Had a Hiccup, Not a Heart Attack, This Year Daniel Gross May 28, 2014. While Nest says its products can easily be installed by laypeople, this layperson was easily stymied. How the Nest Thermostat Could Save the Planet Daniel Gross July 24, 2013.',\n",
       "  'Four years later Adi and his brother Rudolph (Rudi) founded the German sports shoe company Gebrueder GebrÃ¼der DASSLER â\\x80\\x94ohg later known as (adidas. PRON-ah-DEE, dahs not-AH-dee). duhs',\n",
       "  \"Dee Dee was preceded in death by her beloved parents, Pearl Bailey of Broadway fame and Louis Bellson, the legendary jazz drummer who died this year on Valentine's day. Her brother, Tony also preceded her in death, as did Carl Anderson, who was like a brother.\",\n",
       "  'When Paul Walker died tragically at the age of 40 on Nov. 30, production on Fast & Furious 7 came to a screeching halt. But on Dec. 13, reports surfaced that Paulâ\\x80\\x99s younger brother Cody, 25, would step in to film Paulâ\\x80\\x99s final scenes. Read on for more details!ut on Dec. 13, reports surfaced that Paulâ\\x80\\x99s younger brother Cody, 25, would step in to film Paulâ\\x80\\x99s final scenes.',\n",
       "  \"Skarlatos is scheduled to appear on ABC's  Dancing with the Stars , which he was rehearsing for when a gunman killed nine people at the Oregon community college he attends last week.aula Deen for this season of  Dancing With The Stars  to teaching his workout regimen ..... had done the British version of  Dancing With The Stars  and had great pointers for Paula ..... ll have to watch the show!  Dancing With The Stars  airs tonight at 8 p.m. ET on.\",\n",
       "  \"Wolfgang Puck ranks at 4th with $75 million. Of course, the likes of Rachel Ray ($60 million) and Paula Deen ($16 million) also make the list of richest chefs in the world but it seems a push to class either of them as true chefs. Here is the full list and infographic: we guess it's all down to opinion.\",\n",
       "  \"Look at this recipe - Creole French fries - from Paula Deen and other tasty dishes on Food Network. In my opinion, Wingstop has the most amazing french fries! When I first tasted them, I immediately noticed the sweet taste. Get dinner on the table with Food Network's best recipes, videos, cooking tips and meal ideas from top chefs, shows and experts.\",\n",
       "  \"Paula Deen is paired up with Mark Ballas this week on Dancing with the Stars â\\x80\\x93 and she's a bit worried about that fact. Oh, Mark. Oh no, the celebrity chef tells the dance pro in a preview clip exclusive to PEOPLE. You're not going to be able to take me ...he Dancing with the Stars contestant scored her second consecutive 10, after earning the season's first 10 last week with her tribute to her late father Steve Irwin.\",\n",
       "  \"She was born on April 20, 1960 in California. Dee Dee was preceded in death by her beloved parents, Pearl Bailey of Broadway fame and Louis Bellson, the legendary jazz drummer who died this year on Valentine's day. Her brother, Tony also preceded her in death, as did Carl Anderson, who was like a brother.\",\n",
       "  \"The official Christmas and New holidays in Russia last from December 31st to January 10th. In Russian Happy/Merry Christmas is 's rah-zh-dee-st-VOHM' (C Ñ\\x80Ð¾Ð¶Ð´ÐµÑ\\x81Ñ\\x82Ð²Ð¾Ð¼!) or 's-schah-st-lee-vah-vah rah-zh dee-st-vah' (Ñ\\x81Ñ\\x87Ð°Ñ\\x81Ñ\\x82Ð»Ð¸Ð²Ð¾Ð³Ð¾ Ñ\\x80Ð¾Ð¶Ð´ÐµÑ\\x81Ñ\\x82Ð²Ð°!).Happy/Merry Christmas in lots more languages.he official Christmas and New holidays in Russia last from December 31st to January 10th. In Russian Happy/Merry Christmas is 's rah-zh-dee-st-VOHM' (C Ñ\\x80Ð¾Ð¶Ð´ÐµÑ\\x81Ñ\\x82Ð²Ð¾Ð¼!) or 's-schah-st-lee-vah-vah rah-zh dee-st-vah' (Ñ\\x81Ñ\\x87Ð°Ñ\\x81Ñ\\x82Ð»Ð¸Ð²Ð¾Ð³Ð¾ Ñ\\x80Ð¾Ð¶Ð´ÐµÑ\\x81Ñ\\x82Ð²Ð°!). Happy/Merry Christmas in lots more languages.\",\n",
       "  \"1 If you do not have Paula Deen's Seasoning you can make your own by mixing 1 cup of salt with 1/4 cup of pepper and 1/4 cup of garlic powder. 2  You can put it in a shaker bottle and use for up to 6 months. 3  Melt 1/4 cup of the margarine in a large frying pan. 4  On medium to medium high heat, brown the chops on both sides.\",\n",
       "  \"Prep 30 mins. This recipe is from the Paula Deen cooking show on the TV Food Network. Originally shown for beef short ribs only, I have found it works as well with pork ribs. I have increased the amount of sauce ingredients - the original amounts didn't seem to be quite enough to really enjoy!\",\n",
       "  \"Cook 2 hrs. This recipe is from the Paula Deen cooking show on the TV Food Network. Originally shown for beef short ribs only, I have found it works as well with pork ribs. I have increased the amount of sauce ingredients - the original amounts didn't seem to be quite enough to really enjoy!\",\n",
       "  'Other top earners including Wolfgang Puck at $20 million, Rachael Ray at $25 million, Paula Deen at $17 million, and Todd English at $11 million. Considering the average salary for a chef/owner of a restaurant is now less than $85,000 a year, all of these celebrity chefsâ\\x80\\x99 salaries are nothing to sneeze at.',\n",
       "  \"'Dancing With the Stars' 2015: Paula Deen Eliminated, But She's Excited to See Her Grandbabies. Grier, 15, was the latest competitor to leave the dance floor on the show's season 21. The Vine star hugged his pro partner, Emma Slater, when he learned he was going home. He, Alexa PenaVega, and Tamar Braxton had all been in jeopardy tonight. Elimination is based upon a combination of judges' scores and viewer votes, and the competitor with the lowest combined score is voted off.\",\n",
       "  'Directions. Preheat oven to 375 degrees F. Mix all meatloaf ingredients well and place in a baking dish. Shape into a loaf. Topping: Mix ingredients for topping and spread on loaf. Bake for 1 hour. Recipe courtesy of Paula Deen.',\n",
       "  'We also highly recommend that you take a look at the Paula Deen Home nightstand, dresser and utility cabinet in the tobacco finish. If youâ\\x80\\x99re looking for individual pieces which can change the whole atmosphere of a room, these are the pieces for you.',\n",
       "  '1 Calories In Paula Deen Vanilla Milkshake, Revamped. 2  411 calories, 6g fat, 76g carbs, 9g protein, 0g fiber. 3  Calories In Fake vanilla milkshake. 4  271 calories, 7g fat, 44g carbs, 12g protein, 7g fiber.',\n",
       "  \"Paddy's Pub (or Paddy's Irish Pub) is an unsuccessful Irish bar in South Philadelphia. Mac - Mac is the pub's most active manager, and a co-owner of the bar. Dennis Reynolds - Dennis is Dee's twin brother, and a co-owner of the bar. Frank Reynolds - Frank is Dennis and Dee's legal father, and a co-owner of the bar.\",\n",
       "  \"Allison Holker announced some very exciting news on Dancing with the Stars on Monday night â\\x80\\x93 she's pregnant! The dancer is expecting a baby with husband Stephen tWitch Boss, and she told Access Hollywood sharing her pregnancy news was exciting.nother celebrity has left the Dancing with the Stars ballroom in Season 21. Singer Andy Grammer and partner Allison Holker, and celebrity chef Paula Deen and her partner, Louis van Amstel, landed in the in jeopardy group on Monday night's episode, but they were not sent home.\",\n",
       "  'Easy Homemade Cookie Ice Cream Recipe : Review : Paula Deen ... I have long since had an ice cream maker, and got rid of it, out of ... sure if it was 2 cups heavy cream or 2 cups whipped cream so i did 1 1/2 cups ...',\n",
       "  'Get ready for one of the most fun hours of television when Celebrity Family Feud Season 2 premieres SUNDAY JUNE 26 8|7c on ABC! Stars joining host Steve Harvey for the second season of Celebrity Family Feud include Lance Bass, Snoop Dogg, Paula Deen and many more!',\n",
       "  'I would LOVE to have a choice of regular or bigger pie crust depending on what I am making. I use Paula Deen deep dish pie pan. I was using 1 1/2 crust. I started making my own pie crust but keep watching for someone to make a bigger pie crust. I do not want to roll or use frozen. It is better to make my own. When I do use Pillsbury everyone loves it.',\n",
       "  \"It's where he's born and bred in. The briar patch is where he's headin'. Zip-a-dee-doo-dah, Zip-a-dee-ay! Wonderful feeling, wonderful day! Zip-a-dee-doo-dah, Zip-a-dee-ay! My oh my, what a wonderful day! Plenty of sunshine heading our way.\",\n",
       "  'Because of the structure of the novel, we see what Paul knows and the disconnect between this and what he shares. Communication is especially a problem in Paulâ\\x80\\x99s family: between his parents, between Erik and his parents, between Paul and his parents, and between Paul and Erik.ecause the story is told from Paulâ\\x80\\x99s point of view, we see Paulâ\\x80\\x99s memories from the past slowly return. We also see his thought process as he watches the â\\x80\\x9cErik Fisher Football Dreamâ\\x80\\x9d go on, even when he knows his brother is downright evil. SYMBOLISM There are many important symbols in the novel.',\n",
       "  'In the container of a blender, combine the ice cream and malted milk powder. Add the milk, a quarter cup at a time, blending between each addition, until the desired consistency is reached. Garnish with whipped cream and malted milk balls. Recipe courtesy of Paula Deen.',\n",
       "  \"Celebrity News Headlines. Stephen Twitch Boss and Allison Holker attend the Los Angeles Haunted Hayride Black Carpet Premiere Night in Griffith Park on October 4, 2015 in Los Angeles -- Getty Images.nother celebrity has left the Dancing with the Stars ballroom in Season 21. Singer Andy Grammer and partner Allison Holker, and celebrity chef Paula Deen and her partner, Louis van Amstel, landed in the in jeopardy group on Monday night's episode, but they were not sent home.\",\n",
       "  \"Zip-a-dee-doo-dah zip-a-dee-ay. Mr bluebirds on my shoulder. It's the truth its actual. And everything is satisfactual. Zip-a-dee-doo-dah zip-a-dee-ay. Wonderful feeling. Wonderful day. Zip-a-dee-doo-dah zip-a-dee-ay. My oh my what a wonderful day.\",\n",
       "  \"Zip a dee doo dah, zip a dee ay. My, oh my what a wonderful day! Plenty of sunshine, plenty of rain. Zip a dee doo dah, zip a dee ay. Mister Bluebird's on my shoulder. It's the truth, it's actual. Ev'rything is satisfactual.\"]}"
      ]
     },
     "execution_count": 26,
     "metadata": {},
     "output_type": "execute_result"
    }
   ],
   "source": [
    "sample['1048585']"
   ]
  },
  {
   "cell_type": "code",
   "execution_count": 27,
   "id": "39c0b378",
   "metadata": {},
   "outputs": [],
   "source": [
    "from sentence_transformers import  LoggingHandler, SentenceTransformer, evaluation, util, models\n",
    "model = SentenceTransformer( \"../sentence-transformers/examples/training/ms_marco/output/train_bi-encoder-mnrl-distilbert-base-uncased-margin_3.0-2022-09-15_06-13-41\")"
   ]
  },
  {
   "cell_type": "code",
   "execution_count": 28,
   "id": "611a7506",
   "metadata": {},
   "outputs": [],
   "source": [
    "import torch\n",
    "all_doc_features = model.encode(sample['1048585']['negative'],\n",
    "                            convert_to_tensor=True,\n",
    "                            batch_size=16, output_value = None)\n",
    "\n",
    "all_docs_embs = torch.stack([feature['sentence_embedding'] for feature in all_doc_features], dim = 0)"
   ]
  },
  {
   "cell_type": "code",
   "execution_count": 29,
   "id": "4c8dbb9d",
   "metadata": {},
   "outputs": [],
   "source": [
    "pos_doc_features = model.encode(sample['1048585']['positive'],\n",
    "                            convert_to_tensor=True,\n",
    "                            batch_size=16, output_value = None)\n",
    "\n",
    "pos_docs_embs = torch.stack([feature['sentence_embedding'] for feature in pos_doc_features], dim = 0)"
   ]
  },
  {
   "cell_type": "code",
   "execution_count": 30,
   "id": "89eb1230",
   "metadata": {},
   "outputs": [
    {
     "data": {
      "application/vnd.jupyter.widget-view+json": {
       "model_id": "5b65c94f63534d7fac72db481b1949fe",
       "version_major": 2,
       "version_minor": 0
      },
      "text/plain": [
       "Batches:   0%|          | 0/1 [00:00<?, ?it/s]"
      ]
     },
     "metadata": {},
     "output_type": "display_data"
    }
   ],
   "source": [
    "all_query_features = model.encode(sample['1048585']['query'],\n",
    "                          convert_to_tensor=True,\n",
    "                          batch_size=16,\n",
    "                          show_progress_bar=True,\n",
    "                          output_value = None) #self.show_progress_bar)\n",
    "\n",
    "\n",
    "all_query_embs = all_query_features['sentence_embedding']"
   ]
  },
  {
   "cell_type": "code",
   "execution_count": 31,
   "id": "c899eef7",
   "metadata": {
    "scrolled": true
   },
   "outputs": [
    {
     "data": {
      "text/plain": [
       "3821715"
      ]
     },
     "execution_count": 31,
     "metadata": {},
     "output_type": "execute_result"
    }
   ],
   "source": [
    "import json\n",
    "open(\"../msmarco/samples_dev_bm25_tops_for_sbert.json\", \"w\").write(json.dumps(list(sample.values())))"
   ]
  },
  {
   "cell_type": "code",
   "execution_count": 32,
   "id": "d2691ad3",
   "metadata": {},
   "outputs": [
    {
     "data": {
      "text/plain": [
       "tensor([[0.6232]], device='cuda:0')"
      ]
     },
     "execution_count": 32,
     "metadata": {},
     "output_type": "execute_result"
    }
   ],
   "source": [
    "from sentence_transformers.util import cos_sim\n",
    "cos_sim(all_query_embs, pos_docs_embs)"
   ]
  },
  {
   "cell_type": "code",
   "execution_count": 33,
   "id": "ca9e277e",
   "metadata": {},
   "outputs": [
    {
     "data": {
      "text/plain": [
       "tensor([[ 0.3023,  0.1917,  0.4062,  0.2213,  0.6633,  0.2693,  0.4281,  0.2800,\n",
       "          0.3382,  0.1706,  0.3609,  0.0178,  0.5630,  0.2704,  0.2209,  0.3152,\n",
       "          0.3173,  0.2410,  0.3186,  0.2017,  0.2480,  0.1569,  0.0739,  0.2764,\n",
       "          0.3848,  0.3449,  0.6747,  0.4362,  0.2676,  0.0798,  0.2178,  0.3054,\n",
       "          0.2798,  0.2626,  0.0796,  0.2565,  0.3061,  0.1169,  0.2065,  0.0631,\n",
       "          0.3362,  0.2869,  0.2757,  0.3047,  0.1186,  0.5206,  0.1264,  0.3824,\n",
       "          0.1264,  0.3121,  0.3139,  0.2086,  0.3235,  0.3649,  0.3742,  0.2875,\n",
       "          0.0316, -0.0228,  0.2329,  0.0292,  0.2891,  0.2479,  0.1272,  0.1655,\n",
       "          0.1908,  0.0896,  0.2109,  0.0620,  0.1971,  0.2512,  0.2992,  0.2597,\n",
       "          0.4145,  0.3174,  0.2230,  0.0899,  0.2608,  0.3987,  0.3915, -0.0995,\n",
       "          0.2368,  0.1607,  0.1904,  0.0257,  0.2099,  0.1143,  0.2183,  0.2666,\n",
       "          0.3276,  0.2031, -0.0101,  0.1426,  0.2214, -0.0365,  0.3266,  0.0147,\n",
       "          0.1764,  0.0427,  0.0273]], device='cuda:0')"
      ]
     },
     "execution_count": 33,
     "metadata": {},
     "output_type": "execute_result"
    }
   ],
   "source": [
    "cos_sim(all_query_embs, all_docs_embs)"
   ]
  },
  {
   "cell_type": "markdown",
   "id": "abbffb6b",
   "metadata": {},
   "source": [
    "# TREC45"
   ]
  },
  {
   "cell_type": "code",
   "execution_count": 1,
   "id": "638ed8d9",
   "metadata": {},
   "outputs": [],
   "source": [
    "import ir_datasets"
   ]
  },
  {
   "cell_type": "code",
   "execution_count": 2,
   "id": "496261c1",
   "metadata": {},
   "outputs": [],
   "source": [
    "collection = dict()\n",
    "\n",
    "with open(\"../trec45.doc.txt\") as f:\n",
    "    for line in f:\n",
    "        collection[line.strip().split(\"\\t\")[1]] = line.strip().split(\"\\t\")[-1] \n",
    "        #did, dtext = line.strip().split(\"\\t\")\n",
    "        #collection[did] = dtext"
   ]
  },
  {
   "cell_type": "code",
   "execution_count": 18,
   "id": "c2714bb6",
   "metadata": {},
   "outputs": [],
   "source": [
    "from collections import defaultdict\n",
    "run = defaultdict(dict)\n",
    "\n",
    "fname = [5]\n",
    "for fn in fname:\n",
    "    with open(f\"../trec45/bm25.f{fn}.test.run.top150\") as f:\n",
    "        for line in f:\n",
    "            qid, _, did, _, _, _ = line.strip().split(\" \")\n",
    "            if \"docs\" not in run[qid]:\n",
    "                run[qid][\"docs\"] = [did]\n",
    "            else:\n",
    "                run[qid][\"docs\"].append(did) "
   ]
  },
  {
   "cell_type": "code",
   "execution_count": 19,
   "id": "4aa03604",
   "metadata": {},
   "outputs": [],
   "source": [
    "for fn in fname:\n",
    "    dataset = ir_datasets.load(f\"disks45/nocr/trec-robust-2004/fold{fn}\")\n",
    "    for q in dataset.queries_iter():\n",
    "        run[q[0]]['qtext'] = q[1]"
   ]
  },
  {
   "cell_type": "code",
   "execution_count": 20,
   "id": "a211b7a1",
   "metadata": {},
   "outputs": [],
   "source": [
    "for fn in fname:\n",
    "    dataset = ir_datasets.load(f\"disks45/nocr/trec-robust-2004/fold{fn}\")\n",
    "    for q in dataset.qrels_iter():\n",
    "        if 'posid' not in run[q[0]]:\n",
    "            run[q[0]]['posid'] = []\n",
    "        if q[2] > 0:\n",
    "            run[q[0]]['posid'].append(q[1])"
   ]
  },
  {
   "cell_type": "code",
   "execution_count": 21,
   "id": "542e997b",
   "metadata": {},
   "outputs": [],
   "source": [
    "out = []\n",
    "for qid in run:\n",
    "    sample = dict()\n",
    "    sample['query'] = run[qid]['qtext']\n",
    "    sample['positive'] = []\n",
    "    sample['negative'] = []\n",
    "    if 'posid' not in run[qid] or 'docs' not in run[qid]:\n",
    "        print(\"error\")\n",
    "        continue\n",
    "    for did in run[qid]['posid']:\n",
    "        if did in collection:\n",
    "            sample['positive'].append(collection[did])\n",
    "            \n",
    "    for did in run[qid]['docs']:\n",
    "        if did not in run[qid]['posid']:\n",
    "            sample['negative'].append(collection[did])\n",
    "    out.append(sample)"
   ]
  },
  {
   "cell_type": "code",
   "execution_count": 22,
   "id": "190dae26",
   "metadata": {},
   "outputs": [
    {
     "data": {
      "text/plain": [
       "61441383"
      ]
     },
     "execution_count": 22,
     "metadata": {},
     "output_type": "execute_result"
    }
   ],
   "source": [
    "import json\n",
    "open(\"../msmarco/samples_robust04_f5_bm25_tops_for_sbert.json\", \"w\").write(json.dumps(out))"
   ]
  },
  {
   "cell_type": "markdown",
   "id": "498f39ad",
   "metadata": {},
   "source": [
    "# generate top 150 data for reranking evaluation"
   ]
  },
  {
   "cell_type": "code",
   "execution_count": 6,
   "id": "324d43db",
   "metadata": {},
   "outputs": [],
   "source": [
    "import ir_datasets\n",
    "fname = [1,2,3,4,5]\n",
    "queries = dict()\n",
    "for fn in fname:\n",
    "    dataset = ir_datasets.load(f\"disks45/nocr/trec-robust-2004/fold{fn}\")\n",
    "    for q in dataset.queries_iter():\n",
    "        queries[q[0]] = q[1]"
   ]
  },
  {
   "cell_type": "code",
   "execution_count": 7,
   "id": "de2485cf",
   "metadata": {},
   "outputs": [],
   "source": [
    "from collections import defaultdict\n",
    "run = defaultdict(dict)\n",
    "fo = open(f\"../trec45/bm25.test.run.top150.tsv\", \"w\")\n",
    "\n",
    "for fn in fname:\n",
    "    with open(f\"../trec45/bm25.f{fn}.test.run.top150\") as f:\n",
    "        for line in f:\n",
    "            qid, _, did, _, _, _ = line.strip().split(\" \")\n",
    "            fo.write(f\"{qid}\\t{did}\\t{queries[qid]}\\t{collection[did]}\\n\")\n",
    "            fo.flush()\n",
    "            \n",
    "fo.close()"
   ]
  },
  {
   "cell_type": "code",
   "execution_count": 11,
   "id": "b2d34837",
   "metadata": {},
   "outputs": [],
   "source": [
    "fo = open(f\"../trec45/qrels.txt\", \"w\")\n",
    "\n",
    "fname = [1,2,3,4,5]\n",
    "for fn in fname:\n",
    "    dataset = ir_datasets.load(f\"disks45/nocr/trec-robust-2004/fold{fn}\")\n",
    "    for q in dataset.qrels_iter():\n",
    "        fo.write(f\"{q[0]} Q0 {q[1]} {q[2]}\\n\")\n",
    "        fo.flush()\n",
    "        \n",
    "fo.close()"
   ]
  },
  {
   "cell_type": "markdown",
   "id": "be833963",
   "metadata": {},
   "source": [
    "# clueweb"
   ]
  },
  {
   "cell_type": "code",
   "execution_count": null,
   "id": "5e727013",
   "metadata": {},
   "outputs": [],
   "source": [
    "import ir_datasets\n",
    "fname = [1,2,3,4,5]\n",
    "queries = dict()\n",
    "with open(\"/home/ec2-user/efs/clueweb/queries_proc.tsv\") as f:\n",
    "    for line in f:\n",
    "        _, qid, qtext = line.strip().split(\"\\t\")\n",
    "        queries[qid] = qtext\n",
    "\n",
    "collection = dict()\n",
    "with open(\"/home/ec2-user/efs/clueweb/documents_proc_top150.tsv\") as f:\n",
    "    for line in f:\n",
    "        _, did, dtext = line.strip().split(\"\\t\")\n",
    "        collection[did] = dtext\n",
    "\n",
    "from collections import defaultdict\n",
    "run = defaultdict(dict)\n",
    "fo = open(f\"/home/ec2-user/efs/clueweb/bm25.test.run.top150.tsv\", \"w\")\n",
    "\n",
    "for fn in fname:\n",
    "    with open(f\"/home/ec2-user/efs/clueweb/bm25.f{fn}.test.run.top150\") as f:\n",
    "        for line in f:\n",
    "            qid, _, did, _, _, _ = line.strip().split(\" \")\n",
    "            fo.write(f\"{qid}\\t{did}\\t{queries[qid]}\\t{collection[did]}\\n\")\n",
    "            fo.flush()\n",
    "            \n",
    "fo.close()\n"
   ]
  },
  {
   "cell_type": "code",
   "execution_count": null,
   "id": "c94df06b",
   "metadata": {},
   "outputs": [],
   "source": [
    "qrels = dict()\n",
    "with open(\"/home/ec2-user/efs/clueweb/qrels.clueweb09b.txt\") as f:\n",
    "    for line in f:\n",
    "        qid, _, did, rel = line.strip().split(\" \")"
   ]
  },
  {
   "cell_type": "code",
   "execution_count": 8,
   "id": "4ab3a907",
   "metadata": {},
   "outputs": [],
   "source": [
    "from collections import defaultdict\n",
    "run = defaultdict(dict)\n",
    "\n",
    "fname = [1]\n",
    "for fn in fname:\n",
    "    with open(f\"/home/ec2-user/efs/clueweb/bm25.f{fn}.test.run.top150\") as f:\n",
    "        for line in f:\n",
    "            qid, _, did, _, _, _ = line.strip().split(\" \")\n",
    "            if \"docs\" not in run[qid]:\n",
    "                run[qid][\"docs\"] = [did]\n",
    "            else:\n",
    "                run[qid][\"docs\"].append(did) \n",
    "                \n",
    "for qid in run:\n",
    "    if 'posid' not in run[qid]:\n",
    "        run[qid]['posid'] = []\n",
    "    qrels[qid]"
   ]
  },
  {
   "cell_type": "code",
   "execution_count": null,
   "id": "7d33a640",
   "metadata": {},
   "outputs": [],
   "source": [
    "for fn in fname:\n",
    "    dataset = ir_datasets.load(f\"disks45/nocr/trec-robust-2004/fold{fn}\")\n",
    "    for q in dataset.qrels_iter():\n",
    "        if 'posid' not in run[q[0]]:\n",
    "            run[q[0]]['posid'] = []\n",
    "        if q[2] > 0:\n",
    "            run[q[0]]['posid'].append(q[1])"
   ]
  },
  {
   "cell_type": "code",
   "execution_count": null,
   "id": "1c002526",
   "metadata": {},
   "outputs": [],
   "source": [
    "out = []\n",
    "for qid in run:\n",
    "    sample = dict()\n",
    "    sample['query'] = run[qid]['qtext']\n",
    "    sample['positive'] = []\n",
    "    sample['negative'] = []\n",
    "    if 'posid' not in run[qid] or 'docs' not in run[qid]:\n",
    "        print(\"error\")\n",
    "        continue\n",
    "    for did in run[qid]['posid']:\n",
    "        if did in collection:\n",
    "            sample['positive'].append(collection[did])\n",
    "            \n",
    "    for did in run[qid]['docs']:\n",
    "        if did not in run[qid]['posid']:\n",
    "            sample['negative'].append(collection[did])\n",
    "    out.append(sample)"
   ]
  }
 ],
 "metadata": {
  "kernelspec": {
   "display_name": "splade",
   "language": "python",
   "name": "splade"
  },
  "language_info": {
   "codemirror_mode": {
    "name": "ipython",
    "version": 3
   },
   "file_extension": ".py",
   "mimetype": "text/x-python",
   "name": "python",
   "nbconvert_exporter": "python",
   "pygments_lexer": "ipython3",
   "version": "3.9.13"
  }
 },
 "nbformat": 4,
 "nbformat_minor": 5
}
